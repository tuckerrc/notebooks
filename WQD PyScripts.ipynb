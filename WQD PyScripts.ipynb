{
 "metadata": {
  "name": "",
  "signature": "sha256:2e4f74c21469b26a972f05c8a33aadfd398fa12c7ed1b7fd73fc8a05978db4f3"
 },
 "nbformat": 3,
 "nbformat_minor": 0,
 "worksheets": [
  {
   "cells": [
    {
     "cell_type": "code",
     "collapsed": false,
     "input": [
      "from IPython.display import Image"
     ],
     "language": "python",
     "metadata": {},
     "outputs": [],
     "prompt_number": 39
    },
    {
     "cell_type": "heading",
     "level": 1,
     "metadata": {},
     "source": [
      "IPython Notebooks and Python Scripts"
     ]
    },
    {
     "cell_type": "markdown",
     "metadata": {},
     "source": [
      "Instructions for using the python scripts to work with data sets from http://waterqualitydata.us"
     ]
    },
    {
     "cell_type": "heading",
     "level": 2,
     "metadata": {},
     "source": [
      "The Scripts"
     ]
    },
    {
     "cell_type": "markdown",
     "metadata": {},
     "source": [
      "There are three scripts: sites.py, extractor.py, writer.py"
     ]
    },
    {
     "cell_type": "heading",
     "level": 3,
     "metadata": {},
     "source": [
      "Extractor.py"
     ]
    },
    {
     "cell_type": "markdown",
     "metadata": {},
     "source": [
      "Extractor.py is a script used to separate sites contained in one batch download file from http://waterqualitydata.us.  Included in this repository is a Results.csv.  We will run the extractor on this file."
     ]
    },
    {
     "cell_type": "heading",
     "level": 4,
     "metadata": {},
     "source": [
      "Step 1"
     ]
    },
    {
     "cell_type": "markdown",
     "metadata": {},
     "source": [
      "Download all the scripts and place them in the same directory as the files you downloaded from WQD."
     ]
    },
    {
     "cell_type": "code",
     "collapsed": false,
     "input": [
      "!ls # Result.csv is the file I downloaded to demostrate. "
     ],
     "language": "python",
     "metadata": {},
     "outputs": [
      {
       "output_type": "stream",
       "stream": "stdout",
       "text": [
        "README.md  Result.csv  Station.csv  WQD PyScripts.ipynb\r\n"
       ]
      }
     ],
     "prompt_number": 28
    },
    {
     "cell_type": "heading",
     "level": 4,
     "metadata": {},
     "source": [
      "Step 2"
     ]
    },
    {
     "cell_type": "markdown",
     "metadata": {},
     "source": [
      "Run the script by double clicking on it or running it from the command line."
     ]
    },
    {
     "cell_type": "heading",
     "level": 4,
     "metadata": {},
     "source": [
      "%load https://raw.githubusercontent.com/tuckerrc/pyscripts/master/extractor.py"
     ]
    },
    {
     "cell_type": "code",
     "collapsed": true,
     "input": [
      "#! /usr/bin/env python \n",
      "import csv, os, glob\n",
      "\n",
      "def read_file(file, fN):\n",
      "\twith open(file, 'rb') as q:\n",
      "\t\treader = csv.reader(q,delimiter=\",\",quotechar = \"\\\"\")\n",
      "\t\tfor row in reader:\n",
      "\t\t\tif row[21] == 'MonitoringLocationIdentifier':\n",
      "\t\t\t\theader = row\n",
      "\t\t\telif os.path.isfile(fN+'/'+row[21]+'.csv'):\n",
      "\t\t\t\twith open(fN+\"/\"+ row[21] +'.csv','ab') as f:\n",
      "\t\t\t\t\twriter = csv.writer(f)\n",
      "\t\t\t\t\twriter.writerow(row)\n",
      "\t\t\t\tf.close()\n",
      "\t\t\telse:\n",
      "\t\t\t\twith open(fN+\"/\"+ row[21] +'.csv','wb') as f:\n",
      "\t\t\t\t\tprint \"Writing \" + row[21] + '.csv'\n",
      "\t\t\t\t\twriter = csv.writer(f)\n",
      "\t\t\t\t\twriter.writerow(header)\n",
      "\t\t\t\tf.close()\n",
      "\t\t\t\twith open(fN+\"/\"+row[21]+'.csv','ab')as f:\n",
      "\t\t\t\t\twriter = csv.writer(f)\n",
      "\t\t\t\t\twriter.writerow(row)\n",
      "\t\t\t\tf.close()\n",
      "\treturn\n",
      "\n",
      "def get_location_rows(file):\n",
      "\t\"\"\" Returns list of all locations \"\"\"\n",
      "\tlocations = []\n",
      "\twith open(file, 'rb') as f:\n",
      "\t\treader = csv.reader(f,delimiter=\",\",quotechar = \"\\\"\")\n",
      "\t\tfor row in reader:\n",
      "\t\t\tif row[21] not in locations and row[21] != 'MonitoringLocationIdentifier':\n",
      "\t\t\t\tlocations.append(row[21])\n",
      "\tf.close()\n",
      "\treturn locations\n",
      "\t\n",
      "def create_csv_list(location,file):\n",
      "\t\"\"\" Creates csv of location \"\"\"\n",
      "\tfile_name = str(location)\n",
      "\tfinalrows = []\n",
      "\twith open(file, 'rb') as f:\n",
      "\t\treader = csv.reader(f,delimiter=\",\",quotechar = \"\\\"\")\n",
      "\t\tfor row in reader:\n",
      "\t\t\ti = 0\n",
      "\t\t\tif (row[21] == file_name or row[21] == \"MonitoringLocationIdentifier\"):\n",
      "\t\t\t\tfinalrows.append(row)\n",
      "\t\t\t\ti = 1\n",
      "\t\t\telif i ==1:\n",
      "\t\t\t\tf.close()\n",
      "\t\t\t\treturn finalrows\n",
      "\tf.close()\n",
      "\treturn finalrows\n",
      "\n",
      "def write_csv(rows, location,fN):\n",
      "\tfile_name = str(location)\n",
      "\tprint \"Writing \" + file_name + \".csv\"\n",
      "\twith open(fN+\"/\"+file_name +'.csv','wb') as f:\n",
      "\t\twriter = csv.writer(f)\n",
      "\t\twriter.writerows(rows)\n",
      "\tf.close()\n",
      "\n",
      "#path = os.path.dirname(os.path.realpath(__file__)) # COMMENTED OUT FOR IPYTHON NOTEBOOK TUTORIAL\n",
      "#os.chdir(path) # COMMENTED OUT FOR IPYTHON NOTEBOOK TUTORIAL\n",
      "fileName = raw_input(\"Enter the file name (without extension ie \\\"test\\\" not \\\"test.csv\\\"): \")\n",
      "#fileName = \"Result-2\"\n",
      "for f in glob.glob(fileName + \".csv\"):\n",
      "\tif not os.path.exists(fileName):\n",
      "\t\tos.makedirs(fileName)\n",
      "\tprint \"Processing: \" + f\n",
      "\tread_file(f, fileName)\n",
      "#\tloc = get_location_rows(f)\n",
      "#\tfor l in loc:\n",
      "#\t\tloc_spec_list = create_csv_list(l,f)\n",
      "#\t\twrite_csv(loc_spec_list, l, fileName)\n",
      "\t\n"
     ],
     "language": "python",
     "metadata": {},
     "outputs": [
      {
       "name": "stdout",
       "output_type": "stream",
       "stream": "stdout",
       "text": [
        "Enter the file name (without extension ie \"test\" not \"test.csv\"): Result\n"
       ]
      },
      {
       "output_type": "stream",
       "stream": "stdout",
       "text": [
        "Processing: Result.csv\n",
        "Writing USGS-10155500.csv\n",
        "Writing USGS-10156000.csv"
       ]
      },
      {
       "output_type": "stream",
       "stream": "stdout",
       "text": [
        "\n"
       ]
      }
     ],
     "prompt_number": 30
    },
    {
     "cell_type": "code",
     "collapsed": false,
     "input": [
      "!ls --color # This is a list of all the files (black) and directories (blue) (Notice the new Result Directory)"
     ],
     "language": "python",
     "metadata": {},
     "outputs": [
      {
       "output_type": "stream",
       "stream": "stdout",
       "text": [
        "README.md  \u001b[0m\u001b[01;34mResult\u001b[0m  Result.csv  Station.csv  WQD PyScripts.ipynb\r\n"
       ]
      }
     ],
     "prompt_number": 26
    },
    {
     "cell_type": "code",
     "collapsed": false,
     "input": [
      "!ls --color Result # These are the two files output (in the Result directory) as we ran the extractor"
     ],
     "language": "python",
     "metadata": {},
     "outputs": [
      {
       "output_type": "stream",
       "stream": "stdout",
       "text": [
        "USGS-10155500.csv  USGS-10156000.csv\r\n"
       ]
      }
     ],
     "prompt_number": 31
    },
    {
     "cell_type": "heading",
     "level": 4,
     "metadata": {},
     "source": [
      "Step 3"
     ]
    },
    {
     "cell_type": "markdown",
     "metadata": {},
     "source": [
      "Now we can run the two files in the Result directory through the writer.py script."
     ]
    },
    {
     "cell_type": "heading",
     "level": 3,
     "metadata": {},
     "source": [
      "Writer.py"
     ]
    },
    {
     "cell_type": "markdown",
     "metadata": {},
     "source": [
      "Writer.py is a script that separates out each sample type (Conductivity, pH, etc.) and produces quick reference graphs. "
     ]
    },
    {
     "cell_type": "heading",
     "level": 4,
     "metadata": {},
     "source": [
      "Step 1"
     ]
    },
    {
     "cell_type": "markdown",
     "metadata": {},
     "source": [
      "Add writer.py to the directory where site csv files are located.  Our example will be in the \"Result\" directory."
     ]
    },
    {
     "cell_type": "heading",
     "level": 4,
     "metadata": {},
     "source": [
      "Step 2"
     ]
    },
    {
     "cell_type": "markdown",
     "metadata": {},
     "source": [
      "Run the script.  It will ask for a file name or * for all.  Two directories will be produced for each site location."
     ]
    },
    {
     "cell_type": "code",
     "collapsed": false,
     "input": [
      "%load https://raw.githubusercontent.com/tuckerrc/pyscripts/master/writer.py"
     ],
     "language": "python",
     "metadata": {},
     "outputs": [],
     "prompt_number": 36
    },
    {
     "cell_type": "code",
     "collapsed": true,
     "input": [
      "#! /usr/bin/env python\n",
      "import csv, os, glob, logging\n",
      "import datetime\n",
      "import numpy as np\n",
      "import matplotlib.pyplot as plt\n",
      "import matplotlib.mlab as mlab\n",
      "import matplotlib.dates as mdates\n",
      "import matplotlib.cbook as cbook\n",
      "from pylab import *\n",
      "from matplotlib.dates import rrulewrapper, RRuleLocator\n",
      "\n",
      "# Get the filelocation\t\n",
      "#path = os.path.dirname(os.path.realpath(__file__))  # COMMENTED OUT FOR IPYTHON NOTEBOOK TUTORIAL\n",
      "#os.chdir(path) # COMMENTED OUT FOR IPYTHON NOTEBOOK TUTORIAL\n",
      "\n",
      "def get_sam_types(file):\n",
      "\t# Procedure to get all sample types\n",
      "\t# @return array of all sample types and number of samples\n",
      "\t# opens the file and counts the sample times to print\n",
      "\tresults = {}\n",
      "\twith open(file, 'rb') as f:\n",
      "\t\treader = csv.reader(f, delimiter=\",\", quotechar = \"\\\"\")\n",
      "\t\tfor row in reader:\n",
      "\t\t\t# checks if row has the target sample type\n",
      "\t\t\tif row[31] not in results:\n",
      "\t\t\t\tresults[row[31]] = 0\n",
      "\t\t\tfor x in results:\n",
      "\t\t\t\tif row[31] == x:\n",
      "\t\t\t\t\tresults[x] = results[x] + 1\n",
      "\tf.close()\n",
      "\treturn results\n",
      "\n",
      "def showSamples(f, r):\n",
      "\t# shows a list of counted sample types to choose from\n",
      "\tsamTypes = []\n",
      "\ti = 0\n",
      "\tfor row in r:\n",
      "\t\t#print '(' + str(i) + ') ' + row + ' ---- ' + str(r[row])\n",
      "\t\tsamTypes.append(row)\n",
      "\t\ti = i + 1\n",
      "\treturn samTypes\n",
      "\n",
      "def get_rows(file, sT, samTypes): # f is file, sT is the sample type\n",
      "\t# prepares row to be added to final csv file\n",
      "\tfinalrows = []\n",
      "\twith open(file, 'rb') as f:\n",
      "\t\treader = csv.reader(f, delimiter=\",\", quotechar = \"\\\"\")\n",
      "\t\tfor row in reader:\n",
      "\t\t\tif (row[31] == sT or row[31] == \"CharacteristicName\"):\n",
      "\t\t\t\tfinalrows.append(row)\n",
      "\tf.close()\n",
      "\treturn finalrows\n",
      "\n",
      "def csvWriter(rows, fN, dN):\n",
      "\t# writes the final csv file with all rows of target sample type\n",
      "\twith open(dN +'/' +fN + '.csv','wb') as f:\n",
      "\t\twriter = csv.writer(f)\n",
      "\t\twriter.writerows(rows)\n",
      "\tf.close()\n",
      "\n",
      "def get_dates(array):\n",
      "\tdates = []\n",
      "\tfor i in array[1:]:\n",
      "\t\tdates.append(i[6])\n",
      "\t#print dates\t\n",
      "\treturn dates\n",
      "\n",
      "def get_data(array):\n",
      "\tdata = []\n",
      "\tfor i in array[1:]:\n",
      "\t\tdata.append(i[33])\n",
      "\t#print data\t\n",
      "\treturn data\n",
      "\n",
      "def get_units(array):\n",
      "\tunit_list = []\n",
      "\tfor u in array:\n",
      "\t\titem = u[34]\t\n",
      "\t\titem = \" \".join(item.split())\n",
      "\t\tif item != 'ResultMeasure/MeasureUnitCode' and item not in unit_list and item != 'None':\n",
      "\t\t\tunit_list.append(item)\n",
      "\tunits = str(unit_list)\n",
      "\tunits = units.replace(\"[\",\"\")\n",
      "\tunits = units.replace(\"]\",\"\")\n",
      "\tunits = units.replace(\"'\",\"\")\n",
      "\tunits = units.replace(\" ,\",\",\")\n",
      "\t#print units\n",
      "\treturn units\n",
      "\n",
      "def get_type(array):\n",
      "\tsamType = array[1][31]\n",
      "\t\n",
      "\treturn samType\n",
      "\n",
      "def plot(dates,samples,units,samType,graphdir):\n",
      "\ti = 0\n",
      "\n",
      "\tfor d in dates:\n",
      "\t\tif d.find('/')==-1:\n",
      "\t\t\tfirst = d.find('-')\n",
      "\t\t\tsecond = d.rfind('-')\n",
      "\t\t\tdates[i] = datetime.date(int(d[0:first]),int(d[first+1:second]),int(d[second+1:]))\n",
      "\t\t\ti = i+1\t\t\n",
      "\t\telse:\t\t\n",
      "\t\t\tfirst = d.find('/')\n",
      "\t\t\tsecond = d.rfind('/')\n",
      "\t\t\tdates[i] = datetime.date(int(d[second+1:]),int(d[0:first]),int(d[first+1:second]))\n",
      "\t\t\ti = i+1\n",
      "\tc = 0\n",
      "\tfor s in samples:\n",
      "\t\tif s == '':\n",
      "\t\t\tsamples[c]  = '0.0'\n",
      "\t\tc = c+1\n",
      "\trule = rrulewrapper(YEARLY)\n",
      "\tloc = RRuleLocator(rule)\n",
      "\tformatter = DateFormatter('%Y')\n",
      "\n",
      "\tfig, ax = plt.subplots()\n",
      "\n",
      "\tplt.plot_date(dates, samples)\n",
      "\tax.xaxis.set_major_locator(loc)\n",
      "\tax.xaxis.set_major_formatter(formatter)\n",
      "\tlabels = ax.get_xticklabels()\n",
      "\tplt.title(samType)\n",
      "\tplt.ylabel(units)\n",
      "\tplt.setp(labels, rotation=30, fontsize=12)\n",
      "\tplt.savefig(graphdir+'/'+samType+'.png',bbox_inches='tight')\n",
      "\tplt.close()\n",
      "\n",
      "#def get_\n",
      "# Take input from the user to get desired file\n",
      "def main():\n",
      "\tfileName = '*'\n",
      "\tfileName = raw_input(\"Enter the file name '*' for all (without extension ie \\\"test\\\" not \\\"test.csv\\\"): \")\n",
      "\tprint 'Please wait...'\n",
      "\tfor f in glob.glob(fileName + \".csv\"):\n",
      "\t\tprint 'Processing: ' + f\n",
      "\t\tresultList = get_sam_types(f)\n",
      "\t\tsampleTypes = showSamples(f,resultList)\n",
      "\t\tcsvdirName = f + ' csv'\n",
      "\t\tgraphdirName = f + ' graphs'\t\n",
      "\t\tif not os.path.exists(csvdirName):\n",
      "\t\t\tos.makedirs(csvdirName)\n",
      "\t\tif not os.path.exists(graphdirName):\n",
      "\t\t\tos.makedirs(graphdirName)\n",
      "\t\t\n",
      "\t\tfor l in sampleTypes:\t\t\n",
      "\t\t\tp = get_rows(f,l, sampleTypes)\n",
      "\t\t\tsampleDates = get_dates(p)\t\t\n",
      "\t\t\t#print p\n",
      "\t\t\tif (len(p[1:])):\n",
      "\t\t\t\tif p[1][31].find('/') == -1 and p[1][31].find('[') == -1 :\n",
      "\t\t\t\t\tcsvWriter(p,p[1][31],csvdirName)\n",
      "\t\t\t\t\tsampleDates = get_dates(p)\n",
      "\t\t\t\t\tsampleData = get_data(p)\n",
      "\t\t\t\t\tsampleUnits = get_units(p)\n",
      "\t\t\t\t\tsampleT\t= get_type(p)\n",
      "\t\t\t\t\tprint '\tSample Type: ' + sampleT\n",
      "\t\t\t\t\tif sampleT != 'Turbidity severity':\n",
      "\t\t\t\t\t\tplot(sampleDates,sampleData,sampleUnits,sampleT,graphdirName)\n",
      "\t\t\t\t\t\t\n",
      "#logging.basicConfig(level=logging.DEBUG, filename='error.log')\n",
      "\n",
      "try:\n",
      "\tmain()\t\t\n",
      "except:\n",
      "\tlogging.exception(\"\")\n",
      "\n",
      "\n",
      "\t\n",
      "#make the plots using plot_date()\n",
      "\n",
      "\n"
     ],
     "language": "python",
     "metadata": {},
     "outputs": [
      {
       "name": "stdout",
       "output_type": "stream",
       "stream": "stdout",
       "text": [
        "Enter the file name '*' for all (without extension ie \"test\" not \"test.csv\"): Result/*\n"
       ]
      },
      {
       "output_type": "stream",
       "stream": "stdout",
       "text": [
        "Please wait...\n",
        "Processing: Result/USGS-10156000.csv\n",
        "\tSample Type: Sodium, percent total cations\n",
        "\tSample Type: Sodium"
       ]
      },
      {
       "output_type": "stream",
       "stream": "stdout",
       "text": [
        "\n",
        "\tSample Type: Hydrogen ion"
       ]
      },
      {
       "output_type": "stream",
       "stream": "stdout",
       "text": [
        "\n",
        "\tSample Type: Sulfate"
       ]
      },
      {
       "output_type": "stream",
       "stream": "stdout",
       "text": [
        "\n",
        "\tSample Type: pH"
       ]
      },
      {
       "output_type": "stream",
       "stream": "stdout",
       "text": [
        "\n",
        "\tSample Type: Chloride"
       ]
      },
      {
       "output_type": "stream",
       "stream": "stdout",
       "text": [
        "\n",
        "\tSample Type: Total hardness -- SDWA NPDWR"
       ]
      },
      {
       "output_type": "stream",
       "stream": "stdout",
       "text": [
        "\n",
        "\tSample Type: Bicarbonate"
       ]
      },
      {
       "output_type": "stream",
       "stream": "stdout",
       "text": [
        "\n",
        "\tSample Type: Potassium"
       ]
      },
      {
       "output_type": "stream",
       "stream": "stdout",
       "text": [
        "\n",
        "\tSample Type: Temperature, air"
       ]
      },
      {
       "output_type": "stream",
       "stream": "stdout",
       "text": [
        "\n",
        "\tSample Type: Specific conductance"
       ]
      },
      {
       "output_type": "stream",
       "stream": "stdout",
       "text": [
        "\n",
        "\tSample Type: Boron"
       ]
      },
      {
       "output_type": "stream",
       "stream": "stdout",
       "text": [
        "\n",
        "\tSample Type: Temperature, water"
       ]
      },
      {
       "output_type": "stream",
       "stream": "stdout",
       "text": [
        "\n",
        "\tSample Type: Hardness, non-carbonate"
       ]
      },
      {
       "output_type": "stream",
       "stream": "stdout",
       "text": [
        "\n",
        "\tSample Type: Instream features, est. stream width"
       ]
      },
      {
       "output_type": "stream",
       "stream": "stdout",
       "text": [
        "\n",
        "\tSample Type: Stream flow, instantaneous"
       ]
      },
      {
       "output_type": "stream",
       "stream": "stdout",
       "text": [
        "\n",
        "\tSample Type: Manganese"
       ]
      },
      {
       "output_type": "stream",
       "stream": "stdout",
       "text": [
        "\n",
        "\tSample Type: Height, gage"
       ]
      },
      {
       "output_type": "stream",
       "stream": "stdout",
       "text": [
        "\n",
        "\tSample Type: Carbonate (CO3)"
       ]
      },
      {
       "output_type": "stream",
       "stream": "stdout",
       "text": [
        "\n",
        "\tSample Type: Calcium"
       ]
      },
      {
       "output_type": "stream",
       "stream": "stdout",
       "text": [
        "\n",
        "\tSample Type: Phosphate"
       ]
      },
      {
       "output_type": "stream",
       "stream": "stdout",
       "text": [
        "\n",
        "\tSample Type: Total dissolved solids"
       ]
      },
      {
       "output_type": "stream",
       "stream": "stdout",
       "text": [
        "\n",
        "\tSample Type: Iron"
       ]
      },
      {
       "output_type": "stream",
       "stream": "stdout",
       "text": [
        "\n",
        "\tSample Type: Silica"
       ]
      },
      {
       "output_type": "stream",
       "stream": "stdout",
       "text": [
        "\n",
        "\tSample Type: Fluoride"
       ]
      },
      {
       "output_type": "stream",
       "stream": "stdout",
       "text": [
        "\n",
        "\tSample Type: Gage height"
       ]
      },
      {
       "output_type": "stream",
       "stream": "stdout",
       "text": [
        "\n",
        "\tSample Type: Stream flow, mean. daily"
       ]
      },
      {
       "output_type": "stream",
       "stream": "stdout",
       "text": [
        "\n",
        "\tSample Type: Sodium adsorption ratio"
       ]
      },
      {
       "output_type": "stream",
       "stream": "stdout",
       "text": [
        "\n",
        "\tSample Type: Inorganic nitrogen (nitrate and nitrite)"
       ]
      },
      {
       "output_type": "stream",
       "stream": "stdout",
       "text": [
        "\n",
        "\tSample Type: Carbon dioxide"
       ]
      },
      {
       "output_type": "stream",
       "stream": "stdout",
       "text": [
        "\n",
        "\tSample Type: Magnesium"
       ]
      },
      {
       "output_type": "stream",
       "stream": "stdout",
       "text": [
        "\n",
        "Processing: Result/USGS-10155500.csv"
       ]
      },
      {
       "output_type": "stream",
       "stream": "stdout",
       "text": [
        "\n",
        "\tSample Type: Sodium, percent total cations\n",
        "\tSample Type: Sodium"
       ]
      },
      {
       "output_type": "stream",
       "stream": "stdout",
       "text": [
        "\n",
        "\tSample Type: Hydrogen ion"
       ]
      },
      {
       "output_type": "stream",
       "stream": "stdout",
       "text": [
        "\n",
        "\tSample Type: Sulfate"
       ]
      },
      {
       "output_type": "stream",
       "stream": "stdout",
       "text": [
        "\n",
        "\tSample Type: pH"
       ]
      },
      {
       "output_type": "stream",
       "stream": "stdout",
       "text": [
        "\n",
        "\tSample Type: Chloride"
       ]
      },
      {
       "output_type": "stream",
       "stream": "stdout",
       "text": [
        "\n",
        "\tSample Type: Hardness, non-carbonate"
       ]
      },
      {
       "output_type": "stream",
       "stream": "stdout",
       "text": [
        "\n",
        "\tSample Type: Bicarbonate"
       ]
      },
      {
       "output_type": "stream",
       "stream": "stdout",
       "text": [
        "\n",
        "\tSample Type: Potassium"
       ]
      },
      {
       "output_type": "stream",
       "stream": "stdout",
       "text": [
        "\n",
        "\tSample Type: Temperature, air"
       ]
      },
      {
       "output_type": "stream",
       "stream": "stdout",
       "text": [
        "\n",
        "\tSample Type: Specific conductance"
       ]
      },
      {
       "output_type": "stream",
       "stream": "stdout",
       "text": [
        "\n",
        "\tSample Type: Boron"
       ]
      },
      {
       "output_type": "stream",
       "stream": "stdout",
       "text": [
        "\n",
        "\tSample Type: Temperature, water"
       ]
      },
      {
       "output_type": "stream",
       "stream": "stdout",
       "text": [
        "\n",
        "\tSample Type: Total hardness -- SDWA NPDWR"
       ]
      },
      {
       "output_type": "stream",
       "stream": "stdout",
       "text": [
        "\n",
        "\tSample Type: Instream features, est. stream width"
       ]
      },
      {
       "output_type": "stream",
       "stream": "stdout",
       "text": [
        "\n",
        "\tSample Type: Stream flow, instantaneous"
       ]
      },
      {
       "output_type": "stream",
       "stream": "stdout",
       "text": [
        "\n",
        "\tSample Type: Height, gage"
       ]
      },
      {
       "output_type": "stream",
       "stream": "stdout",
       "text": [
        "\n",
        "\tSample Type: Stream flow, mean. daily"
       ]
      },
      {
       "output_type": "stream",
       "stream": "stdout",
       "text": [
        "\n",
        "\tSample Type: Calcium"
       ]
      },
      {
       "output_type": "stream",
       "stream": "stdout",
       "text": [
        "\n",
        "\tSample Type: Phosphate"
       ]
      },
      {
       "output_type": "stream",
       "stream": "stdout",
       "text": [
        "\n",
        "\tSample Type: Magnesium"
       ]
      },
      {
       "output_type": "stream",
       "stream": "stdout",
       "text": [
        "\n",
        "\tSample Type: Silica"
       ]
      },
      {
       "output_type": "stream",
       "stream": "stdout",
       "text": [
        "\n",
        "\tSample Type: Fluoride"
       ]
      },
      {
       "output_type": "stream",
       "stream": "stdout",
       "text": [
        "\n",
        "\tSample Type: Gage height"
       ]
      },
      {
       "output_type": "stream",
       "stream": "stdout",
       "text": [
        "\n",
        "\tSample Type: Carbonate (CO3)"
       ]
      },
      {
       "output_type": "stream",
       "stream": "stdout",
       "text": [
        "\n",
        "\tSample Type: Sodium adsorption ratio"
       ]
      },
      {
       "output_type": "stream",
       "stream": "stdout",
       "text": [
        "\n",
        "\tSample Type: Inorganic nitrogen (nitrate and nitrite)"
       ]
      },
      {
       "output_type": "stream",
       "stream": "stdout",
       "text": [
        "\n",
        "\tSample Type: Carbon dioxide"
       ]
      },
      {
       "output_type": "stream",
       "stream": "stdout",
       "text": [
        "\n",
        "\tSample Type: Total dissolved solids"
       ]
      },
      {
       "output_type": "stream",
       "stream": "stdout",
       "text": [
        "\n"
       ]
      }
     ],
     "prompt_number": 55
    },
    {
     "cell_type": "code",
     "collapsed": false,
     "input": [
      "!ls --color Result # Note the four new directories added (USGS-*** graphs and USGS-*** csv)"
     ],
     "language": "python",
     "metadata": {},
     "outputs": [
      {
       "output_type": "stream",
       "stream": "stdout",
       "text": [
        "USGS-10155500.csv      \u001b[0m\u001b[01;34mUSGS-10155500.csv graphs\u001b[0m  \u001b[01;34mUSGS-10156000.csv csv\u001b[0m\r\n",
        "\u001b[01;34mUSGS-10155500.csv csv\u001b[0m  USGS-10156000.csv         \u001b[01;34mUSGS-10156000.csv graphs\u001b[0m\r\n"
       ]
      }
     ],
     "prompt_number": 56
    },
    {
     "cell_type": "heading",
     "level": 4,
     "metadata": {},
     "source": [
      "Step 3"
     ]
    },
    {
     "cell_type": "markdown",
     "metadata": {},
     "source": [
      "The script will output each sample type as it processes it."
     ]
    },
    {
     "cell_type": "code",
     "collapsed": false,
     "input": [
      "Image(filename=\"Result/USGS-10155500.csv graphs/Gage height.png\")"
     ],
     "language": "python",
     "metadata": {},
     "outputs": [
      {
       "metadata": {},
       "output_type": "pyout",
       "png": "[encoded data removed]",
       "prompt_number": 54,
       "text": [
        "<IPython.core.display.Image at 0x7fce21bcd410>"
       ]
      }
     ],
     "prompt_number": 54
    },
    {
     "cell_type": "heading",
     "level": 4,
     "metadata": {},
     "source": [
      "ERRORS!"
     ]
    },
    {
     "cell_type": "markdown",
     "metadata": {},
     "source": [
      "If there are any errors while the script runs it will output an \"error.log\" file.  This is likely due to bad data in the csv file and I am currently working on reducing the number of errors.  Email me a zip file of the \"error.log\" file and all the files in the directory and I'll make the script better."
     ]
    },
    {
     "cell_type": "code",
     "collapsed": false,
     "input": [],
     "language": "python",
     "metadata": {},
     "outputs": []
    }
   ],
   "metadata": {}
  }
 ]
}