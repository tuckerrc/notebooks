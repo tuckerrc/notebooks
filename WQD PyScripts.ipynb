{
 "metadata": {
  "name": "",
  "signature": "sha256:5c3bd8a4ae9704d4405343a73f2bdbae864d3c4ef89bad617aca116b8d6b035e"
 },
 "nbformat": 3,
 "nbformat_minor": 0,
 "worksheets": [
  {
   "cells": [
    {
     "cell_type": "heading",
     "level": 1,
     "metadata": {},
     "source": [
      "IPython Notebooks and Python Scripts"
     ]
    },
    {
     "cell_type": "markdown",
     "metadata": {},
     "source": [
      "Instructions for using the python scripts I have made to work with data sets from http://waterqualitydata.us"
     ]
    },
    {
     "cell_type": "heading",
     "level": 2,
     "metadata": {},
     "source": [
      "The Scripts"
     ]
    },
    {
     "cell_type": "markdown",
     "metadata": {},
     "source": [
      "There are three scripts: sites.py, extractor.py, writer.py"
     ]
    },
    {
     "cell_type": "heading",
     "level": 3,
     "metadata": {},
     "source": [
      "Extractor.py"
     ]
    },
    {
     "cell_type": "markdown",
     "metadata": {},
     "source": [
      "Extractor.py is a script used to separate sites contained in one batch download file from http://waterqualitydata.us.  Included in this repository is a Results.csv.  We will run the extractor on this file."
     ]
    },
    {
     "cell_type": "heading",
     "level": 4,
     "metadata": {},
     "source": [
      "Step 1"
     ]
    },
    {
     "cell_type": "markdown",
     "metadata": {},
     "source": [
      "Download all the scripts and place them in the same directory as the files you downloaded from WQD."
     ]
    },
    {
     "cell_type": "code",
     "collapsed": false,
     "input": [
      "!ls # Result.csv is the file I downloaded to demostrate. "
     ],
     "language": "python",
     "metadata": {},
     "outputs": [
      {
       "output_type": "stream",
       "stream": "stdout",
       "text": [
        "README.md  Result.csv  Station.csv  WQD PyScripts.ipynb\r\n"
       ]
      }
     ],
     "prompt_number": 21
    },
    {
     "cell_type": "heading",
     "level": 4,
     "metadata": {},
     "source": [
      "Step 2"
     ]
    },
    {
     "cell_type": "markdown",
     "metadata": {},
     "source": [
      "Run the script by double clicking on it or running it from the command line."
     ]
    },
    {
     "cell_type": "heading",
     "level": 4,
     "metadata": {},
     "source": [
      "%load https://raw.githubusercontent.com/tuckerrc/pyscripts/master/extractor.py"
     ]
    },
    {
     "cell_type": "code",
     "collapsed": false,
     "input": [
      "#! /usr/bin/env python \n",
      "import csv, os, glob\n",
      "\n",
      "def read_file(file, fN):\n",
      "\twith open(file, 'rb') as q:\n",
      "\t\treader = csv.reader(q,delimiter=\",\",quotechar = \"\\\"\")\n",
      "\t\tfor row in reader:\n",
      "\t\t\tif row[21] == 'MonitoringLocationIdentifier':\n",
      "\t\t\t\theader = row\n",
      "\t\t\telif os.path.isfile(fN+'/'+row[21]+'.csv'):\n",
      "\t\t\t\twith open(fN+\"/\"+ row[21] +'.csv','ab') as f:\n",
      "\t\t\t\t\twriter = csv.writer(f)\n",
      "\t\t\t\t\twriter.writerow(row)\n",
      "\t\t\t\tf.close()\n",
      "\t\t\telse:\n",
      "\t\t\t\twith open(fN+\"/\"+ row[21] +'.csv','wb') as f:\n",
      "\t\t\t\t\tprint \"Writing \" + row[21] + '.csv'\n",
      "\t\t\t\t\twriter = csv.writer(f)\n",
      "\t\t\t\t\twriter.writerow(header)\n",
      "\t\t\t\tf.close()\n",
      "\t\t\t\twith open(fN+\"/\"+row[21]+'.csv','ab')as f:\n",
      "\t\t\t\t\twriter = csv.writer(f)\n",
      "\t\t\t\t\twriter.writerow(row)\n",
      "\t\t\t\tf.close()\n",
      "\treturn\n",
      "\n",
      "def get_location_rows(file):\n",
      "\t\"\"\" Returns list of all locations \"\"\"\n",
      "\tlocations = []\n",
      "\twith open(file, 'rb') as f:\n",
      "\t\treader = csv.reader(f,delimiter=\",\",quotechar = \"\\\"\")\n",
      "\t\tfor row in reader:\n",
      "\t\t\tif row[21] not in locations and row[21] != 'MonitoringLocationIdentifier':\n",
      "\t\t\t\tlocations.append(row[21])\n",
      "\tf.close()\n",
      "\treturn locations\n",
      "\t\n",
      "def create_csv_list(location,file):\n",
      "\t\"\"\" Creates csv of location \"\"\"\n",
      "\tfile_name = str(location)\n",
      "\tfinalrows = []\n",
      "\twith open(file, 'rb') as f:\n",
      "\t\treader = csv.reader(f,delimiter=\",\",quotechar = \"\\\"\")\n",
      "\t\tfor row in reader:\n",
      "\t\t\ti = 0\n",
      "\t\t\tif (row[21] == file_name or row[21] == \"MonitoringLocationIdentifier\"):\n",
      "\t\t\t\tfinalrows.append(row)\n",
      "\t\t\t\ti = 1\n",
      "\t\t\telif i ==1:\n",
      "\t\t\t\tf.close()\n",
      "\t\t\t\treturn finalrows\n",
      "\tf.close()\n",
      "\treturn finalrows\n",
      "\n",
      "def write_csv(rows, location,fN):\n",
      "\tfile_name = str(location)\n",
      "\tprint \"Writing \" + file_name + \".csv\"\n",
      "\twith open(fN+\"/\"+file_name +'.csv','wb') as f:\n",
      "\t\twriter = csv.writer(f)\n",
      "\t\twriter.writerows(rows)\n",
      "\tf.close()\n",
      "\n",
      "#path = os.path.dirname(os.path.realpath(__file__))\n",
      "#os.chdir(path)\n",
      "fileName = raw_input(\"Enter the file name (without extension ie \\\"test\\\" not \\\"test.csv\\\"): \")\n",
      "#fileName = \"Result-2\"\n",
      "for f in glob.glob(fileName + \".csv\"):\n",
      "\tif not os.path.exists(fileName):\n",
      "\t\tos.makedirs(fileName)\n",
      "\tprint \"Processing: \" + f\n",
      "\tread_file(f, fileName)\n",
      "#\tloc = get_location_rows(f)\n",
      "#\tfor l in loc:\n",
      "#\t\tloc_spec_list = create_csv_list(l,f)\n",
      "#\t\twrite_csv(loc_spec_list, l, fileName)\n",
      "\t\n"
     ],
     "language": "python",
     "metadata": {},
     "outputs": []
    },
    {
     "cell_type": "code",
     "collapsed": false,
     "input": [
      "!ls # This is a list of all the files and directories (Notice the new Result Directory)"
     ],
     "language": "python",
     "metadata": {},
     "outputs": [
      {
       "output_type": "stream",
       "stream": "stdout",
       "text": [
        "README.md  Result  Result.csv  Station.csv  WQD PyScripts.ipynb\r\n"
       ]
      }
     ],
     "prompt_number": 20
    },
    {
     "cell_type": "code",
     "collapsed": false,
     "input": [],
     "language": "python",
     "metadata": {},
     "outputs": []
    }
   ],
   "metadata": {}
  }
 ]
}