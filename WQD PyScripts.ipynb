{
 "metadata": {
  "name": "",
  "signature": "sha256:4c574f1bb95bd688baf08b4a194a0c923a2d7d48c7b6f038eaeb1a7ee0d983a3"
 },
 "nbformat": 3,
 "nbformat_minor": 0,
 "worksheets": [
  {
   "cells": [
    {
     "cell_type": "markdown",
     "metadata": {},
     "source": [
      "Instructions for using the python scripts I have made to work with data sets from http://waterqualityportal.us"
     ]
    },
    {
     "cell_type": "code",
     "collapsed": false,
     "input": [],
     "language": "python",
     "metadata": {},
     "outputs": [],
     "prompt_number": 0
    },
    {
     "cell_type": "code",
     "collapsed": false,
     "input": [],
     "language": "python",
     "metadata": {},
     "outputs": []
    }
   ],
   "metadata": {}
  }
 ]
}